{
 "cells": [
  {
   "cell_type": "code",
   "execution_count": 117,
   "metadata": {},
   "outputs": [],
   "source": [
    "import pandas as pd\n",
    "import datetime\n",
    "import numpy as np"
   ]
  },
  {
   "cell_type": "code",
   "execution_count": 118,
   "metadata": {},
   "outputs": [
    {
     "name": "stdout",
     "output_type": "stream",
     "text": [
      "2024-09-20 14:56:58.429501\n",
      "Remaining time today: 9:03:00.570499\n"
     ]
    }
   ],
   "source": [
    "now = datetime.datetime.now()\n",
    "remaining_time = datetime.datetime.combine(now.date(), datetime.time(23, 59, 59)) - now\n",
    "print(now)\n",
    "print(f\"Remaining time today: {remaining_time}\")"
   ]
  },
  {
   "cell_type": "code",
   "execution_count": 119,
   "metadata": {},
   "outputs": [],
   "source": [
    "task = {\"AI_forex\" : 3,\n",
    "        \"german_language\":3,\n",
    "        \"university\":3,\n",
    "        \"university_project\":3,\n",
    "        \"exam\":3,\n",
    "        \"reinforcment_learning\":2,\n",
    "        \"exersize\":2,\n",
    "        \"apply\":1,\n",
    "        \"github_project\":1,\n",
    "        \"start_up\":1}\n",
    "\n",
    "# df=pd.DataFrame(task)\n",
    "\n"
   ]
  },
  {
   "cell_type": "code",
   "execution_count": 120,
   "metadata": {},
   "outputs": [],
   "source": [
    "import datetime\n",
    "\n",
    "def seconds_to_hms(seconds):\n",
    "  \"\"\"Converts seconds to hours, minutes, and seconds format.\n",
    "\n",
    "  Args:\n",
    "    seconds: The number of seconds to convert.\n",
    "\n",
    "  Returns:\n",
    "    A tuple of (hours, minutes, seconds).\n",
    "  \"\"\"\n",
    "  seconds=int(seconds)\n",
    "  hours = seconds // 3600\n",
    "  minutes = (seconds % 3600) // 60\n",
    "  seconds = seconds % 60\n",
    "\n",
    "  return f\"{hours}:{minutes}:{seconds}\"\n"
   ]
  },
  {
   "cell_type": "code",
   "execution_count": 121,
   "metadata": {},
   "outputs": [
    {
     "name": "stdout",
     "output_type": "stream",
     "text": [
      "0:19:13\n",
      "Part 1: 14:56:58 - 15:16:12\n",
      "Part 2: 15:16:12 - 15:35:25\n",
      "Part 3: 15:35:25 - 15:54:39\n",
      "Part 4: 15:54:39 - 16:13:53\n",
      "Part 5: 16:13:53 - 16:33:06\n",
      "Part 6: 16:33:06 - 16:52:20\n",
      "Part 7: 16:52:20 - 17:11:34\n",
      "Part 8: 17:11:34 - 17:30:47\n",
      "Part 9: 17:30:47 - 17:50:01\n",
      "Part 10: 17:50:01 - 18:09:15\n",
      "Part 11: 18:09:15 - 18:28:28\n",
      "Part 12: 18:28:28 - 18:47:42\n",
      "Part 13: 18:47:42 - 19:06:56\n",
      "Part 14: 19:06:56 - 19:26:09\n",
      "Part 15: 19:26:09 - 19:45:23\n",
      "Part 16: 19:45:23 - 20:04:37\n",
      "Part 17: 20:04:37 - 20:23:50\n",
      "Part 18: 20:23:50 - 20:43:04\n",
      "Part 19: 20:43:04 - 21:02:18\n",
      "Part 20: 21:02:18 - 21:21:31\n",
      "Part 21: 21:21:31 - 21:40:45\n",
      "Part 22: 21:40:45 - 21:59:59\n"
     ]
    }
   ],
   "source": [
    "now = datetime.datetime.now()\n",
    "remaining_time = datetime.datetime.combine(now.date(), datetime.time(21, 59, 59)) - now\n",
    "\n",
    "n = sum(list(task.values()))  # Number of parts to split the remaining time into\n",
    "times = []\n",
    "# Calculate the duration of each part in seconds\n",
    "part_duration_seconds = remaining_time.total_seconds() / n\n",
    "\n",
    "# Calculate the start and end times for each part\n",
    "start_times = [now + datetime.timedelta(seconds=part_duration_seconds * i) for i in range(n)]\n",
    "end_times = [start_times[i] + datetime.timedelta(seconds=part_duration_seconds) for i in range(n)]\n",
    "\n",
    "# Print the start and end times for each part in hours, minutes, and seconds\n",
    "print(seconds_to_hms(int(part_duration_seconds)))\n",
    "for i in range(n):\n",
    "    start_time_str = start_times[i].strftime(\"%H:%M:%S\")\n",
    "    end_time_str = end_times[i].strftime(\"%H:%M:%S\")\n",
    "    print(f\"Part {i+1}: {start_time_str} - {end_time_str}\")\n",
    "    times.append(f\"{start_time_str} - {end_time_str}\")"
   ]
  },
  {
   "cell_type": "code",
   "execution_count": 122,
   "metadata": {},
   "outputs": [
    {
     "name": "stdout",
     "output_type": "stream",
     "text": [
      "Part 22: 14:56:58 - 21:40:45\n",
      "Part 22: 21:40:45 - 21:40:45\n",
      "Part 22: 21:40:45 - 21:40:45\n",
      "Part 22: 21:40:45 - 21:40:45\n",
      "Part 22: 21:40:45 - 21:40:45\n",
      "Part 22: 21:40:45 - 21:40:45\n",
      "Part 22: 21:40:45 - 21:40:45\n",
      "Part 22: 21:40:45 - 21:40:45\n",
      "Part 22: 21:40:45 - 21:40:45\n",
      "Part 22: 21:40:45 - 21:40:45\n",
      "{'AI_forex': '14:56:58 - 21:40:45', 'german_language': '21:40:45 - 21:40:45', 'university': '21:40:45 - 21:40:45', 'university_project': '21:40:45 - 21:40:45', 'exam': '21:40:45 - 21:40:45', 'reinforcment_learning': '21:40:45 - 21:40:45', 'exersize': '21:40:45 - 21:40:45', 'apply': '21:40:45 - 21:40:45', 'github_project': '21:40:45 - 21:40:45', 'start_up': '21:40:45 - 21:40:45'}\n"
     ]
    }
   ],
   "source": [
    "task_time={}\n",
    "end_time = now\n",
    "for key,value in task.items():\n",
    "    start_time_str = end_time.strftime(\"%H:%M:%S\")\n",
    "    end_time = (now + datetime.timedelta(seconds=part_duration_seconds * i))\n",
    "    end_time_str = end_time.strftime(\"%H:%M:%S\")\n",
    "    print(f\"Part {i+1}: {start_time_str} - {end_time_str}\")\n",
    "    task_time[key] = f\"{start_time_str} - {end_time_str}\"\n",
    "\n",
    "print(task_time)"
   ]
  },
  {
   "cell_type": "code",
   "execution_count": 123,
   "metadata": {},
   "outputs": [
    {
     "data": {
      "text/plain": [
       "'0:19:13'"
      ]
     },
     "execution_count": 123,
     "metadata": {},
     "output_type": "execute_result"
    }
   ],
   "source": [
    "part_duration_seconds\n",
    "seconds_to_hms(part_duration_seconds)"
   ]
  },
  {
   "cell_type": "code",
   "execution_count": 124,
   "metadata": {},
   "outputs": [
    {
     "data": {
      "text/html": [
       "<div>\n",
       "<style scoped>\n",
       "    .dataframe tbody tr th:only-of-type {\n",
       "        vertical-align: middle;\n",
       "    }\n",
       "\n",
       "    .dataframe tbody tr th {\n",
       "        vertical-align: top;\n",
       "    }\n",
       "\n",
       "    .dataframe thead th {\n",
       "        text-align: right;\n",
       "    }\n",
       "</style>\n",
       "<table border=\"1\" class=\"dataframe\">\n",
       "  <thead>\n",
       "    <tr style=\"text-align: right;\">\n",
       "      <th></th>\n",
       "      <th>tasks</th>\n",
       "      <th>importance</th>\n",
       "      <th>time</th>\n",
       "    </tr>\n",
       "  </thead>\n",
       "  <tbody>\n",
       "    <tr>\n",
       "      <th>14:56:58 - 21:40:45</th>\n",
       "      <td>AI_forex</td>\n",
       "      <td>3</td>\n",
       "      <td>0:57:40</td>\n",
       "    </tr>\n",
       "    <tr>\n",
       "      <th>21:40:45 - 21:40:45</th>\n",
       "      <td>german_language</td>\n",
       "      <td>3</td>\n",
       "      <td>0:57:40</td>\n",
       "    </tr>\n",
       "    <tr>\n",
       "      <th>21:40:45 - 21:40:45</th>\n",
       "      <td>university</td>\n",
       "      <td>3</td>\n",
       "      <td>0:57:40</td>\n",
       "    </tr>\n",
       "    <tr>\n",
       "      <th>21:40:45 - 21:40:45</th>\n",
       "      <td>university_project</td>\n",
       "      <td>3</td>\n",
       "      <td>0:57:40</td>\n",
       "    </tr>\n",
       "    <tr>\n",
       "      <th>21:40:45 - 21:40:45</th>\n",
       "      <td>exam</td>\n",
       "      <td>3</td>\n",
       "      <td>0:57:40</td>\n",
       "    </tr>\n",
       "    <tr>\n",
       "      <th>21:40:45 - 21:40:45</th>\n",
       "      <td>reinforcment_learning</td>\n",
       "      <td>2</td>\n",
       "      <td>0:38:27</td>\n",
       "    </tr>\n",
       "    <tr>\n",
       "      <th>21:40:45 - 21:40:45</th>\n",
       "      <td>exersize</td>\n",
       "      <td>2</td>\n",
       "      <td>0:38:27</td>\n",
       "    </tr>\n",
       "    <tr>\n",
       "      <th>21:40:45 - 21:40:45</th>\n",
       "      <td>apply</td>\n",
       "      <td>1</td>\n",
       "      <td>0:19:13</td>\n",
       "    </tr>\n",
       "    <tr>\n",
       "      <th>21:40:45 - 21:40:45</th>\n",
       "      <td>github_project</td>\n",
       "      <td>1</td>\n",
       "      <td>0:19:13</td>\n",
       "    </tr>\n",
       "    <tr>\n",
       "      <th>21:40:45 - 21:40:45</th>\n",
       "      <td>start_up</td>\n",
       "      <td>1</td>\n",
       "      <td>0:19:13</td>\n",
       "    </tr>\n",
       "  </tbody>\n",
       "</table>\n",
       "</div>"
      ],
      "text/plain": [
       "                                     tasks  importance     time\n",
       "14:56:58 - 21:40:45               AI_forex           3  0:57:40\n",
       "21:40:45 - 21:40:45        german_language           3  0:57:40\n",
       "21:40:45 - 21:40:45             university           3  0:57:40\n",
       "21:40:45 - 21:40:45     university_project           3  0:57:40\n",
       "21:40:45 - 21:40:45                   exam           3  0:57:40\n",
       "21:40:45 - 21:40:45  reinforcment_learning           2  0:38:27\n",
       "21:40:45 - 21:40:45               exersize           2  0:38:27\n",
       "21:40:45 - 21:40:45                  apply           1  0:19:13\n",
       "21:40:45 - 21:40:45         github_project           1  0:19:13\n",
       "21:40:45 - 21:40:45               start_up           1  0:19:13"
      ]
     },
     "execution_count": 124,
     "metadata": {},
     "output_type": "execute_result"
    }
   ],
   "source": [
    "df = {}\n",
    "df[\"tasks\"] = list(task_time.keys())\n",
    "df[\"importance\"] = list(task.values())\n",
    "df[\"time\"] = np.array(df[\"importance\"]) * part_duration_seconds\n",
    "df = pd.DataFrame(df)\n",
    "df[\"time\"] = df[\"time\"].apply(seconds_to_hms)\n",
    "df.index = task_time.values()\n",
    "df"
   ]
  },
  {
   "cell_type": "code",
   "execution_count": 125,
   "metadata": {},
   "outputs": [
    {
     "ename": "ValueError",
     "evalue": "2 columns passed, passed data had 10 columns",
     "output_type": "error",
     "traceback": [
      "\u001b[1;31m---------------------------------------------------------------------------\u001b[0m",
      "\u001b[1;31mAssertionError\u001b[0m                            Traceback (most recent call last)",
      "File \u001b[1;32mc:\\Users\\MMM\\anaconda3\\Lib\\site-packages\\pandas\\core\\internals\\construction.py:939\u001b[0m, in \u001b[0;36m_finalize_columns_and_data\u001b[1;34m(content, columns, dtype)\u001b[0m\n\u001b[0;32m    938\u001b[0m \u001b[38;5;28;01mtry\u001b[39;00m:\n\u001b[1;32m--> 939\u001b[0m     columns \u001b[38;5;241m=\u001b[39m _validate_or_indexify_columns(contents, columns)\n\u001b[0;32m    940\u001b[0m \u001b[38;5;28;01mexcept\u001b[39;00m \u001b[38;5;167;01mAssertionError\u001b[39;00m \u001b[38;5;28;01mas\u001b[39;00m err:\n\u001b[0;32m    941\u001b[0m     \u001b[38;5;66;03m# GH#26429 do not raise user-facing AssertionError\u001b[39;00m\n",
      "File \u001b[1;32mc:\\Users\\MMM\\anaconda3\\Lib\\site-packages\\pandas\\core\\internals\\construction.py:986\u001b[0m, in \u001b[0;36m_validate_or_indexify_columns\u001b[1;34m(content, columns)\u001b[0m\n\u001b[0;32m    984\u001b[0m \u001b[38;5;28;01mif\u001b[39;00m \u001b[38;5;129;01mnot\u001b[39;00m is_mi_list \u001b[38;5;129;01mand\u001b[39;00m \u001b[38;5;28mlen\u001b[39m(columns) \u001b[38;5;241m!=\u001b[39m \u001b[38;5;28mlen\u001b[39m(content):  \u001b[38;5;66;03m# pragma: no cover\u001b[39;00m\n\u001b[0;32m    985\u001b[0m     \u001b[38;5;66;03m# caller's responsibility to check for this...\u001b[39;00m\n\u001b[1;32m--> 986\u001b[0m     \u001b[38;5;28;01mraise\u001b[39;00m \u001b[38;5;167;01mAssertionError\u001b[39;00m(\n\u001b[0;32m    987\u001b[0m         \u001b[38;5;124mf\u001b[39m\u001b[38;5;124m\"\u001b[39m\u001b[38;5;132;01m{\u001b[39;00m\u001b[38;5;28mlen\u001b[39m(columns)\u001b[38;5;132;01m}\u001b[39;00m\u001b[38;5;124m columns passed, passed data had \u001b[39m\u001b[38;5;124m\"\u001b[39m\n\u001b[0;32m    988\u001b[0m         \u001b[38;5;124mf\u001b[39m\u001b[38;5;124m\"\u001b[39m\u001b[38;5;132;01m{\u001b[39;00m\u001b[38;5;28mlen\u001b[39m(content)\u001b[38;5;132;01m}\u001b[39;00m\u001b[38;5;124m columns\u001b[39m\u001b[38;5;124m\"\u001b[39m\n\u001b[0;32m    989\u001b[0m     )\n\u001b[0;32m    990\u001b[0m \u001b[38;5;28;01mif\u001b[39;00m is_mi_list:\n\u001b[0;32m    991\u001b[0m     \u001b[38;5;66;03m# check if nested list column, length of each sub-list should be equal\u001b[39;00m\n",
      "\u001b[1;31mAssertionError\u001b[0m: 2 columns passed, passed data had 10 columns",
      "\nThe above exception was the direct cause of the following exception:\n",
      "\u001b[1;31mValueError\u001b[0m                                Traceback (most recent call last)",
      "Cell \u001b[1;32mIn[125], line 1\u001b[0m\n\u001b[1;32m----> 1\u001b[0m pd\u001b[38;5;241m.\u001b[39mDataFrame([\u001b[38;5;28mlist\u001b[39m(task_time\u001b[38;5;241m.\u001b[39mkeys()),\u001b[38;5;28mlist\u001b[39m(task\u001b[38;5;241m.\u001b[39mvalues())],index\u001b[38;5;241m=\u001b[39mtask_time\u001b[38;5;241m.\u001b[39mvalues(), columns \u001b[38;5;241m=\u001b[39m [\u001b[38;5;124m\"\u001b[39m\u001b[38;5;124mtasks\u001b[39m\u001b[38;5;124m\"\u001b[39m,\u001b[38;5;124m\"\u001b[39m\u001b[38;5;124mparts\u001b[39m\u001b[38;5;124m\"\u001b[39m] )\n",
      "File \u001b[1;32mc:\\Users\\MMM\\anaconda3\\Lib\\site-packages\\pandas\\core\\frame.py:851\u001b[0m, in \u001b[0;36mDataFrame.__init__\u001b[1;34m(self, data, index, columns, dtype, copy)\u001b[0m\n\u001b[0;32m    849\u001b[0m     \u001b[38;5;28;01mif\u001b[39;00m columns \u001b[38;5;129;01mis\u001b[39;00m \u001b[38;5;129;01mnot\u001b[39;00m \u001b[38;5;28;01mNone\u001b[39;00m:\n\u001b[0;32m    850\u001b[0m         columns \u001b[38;5;241m=\u001b[39m ensure_index(columns)\n\u001b[1;32m--> 851\u001b[0m     arrays, columns, index \u001b[38;5;241m=\u001b[39m nested_data_to_arrays(\n\u001b[0;32m    852\u001b[0m         \u001b[38;5;66;03m# error: Argument 3 to \"nested_data_to_arrays\" has incompatible\u001b[39;00m\n\u001b[0;32m    853\u001b[0m         \u001b[38;5;66;03m# type \"Optional[Collection[Any]]\"; expected \"Optional[Index]\"\u001b[39;00m\n\u001b[0;32m    854\u001b[0m         data,\n\u001b[0;32m    855\u001b[0m         columns,\n\u001b[0;32m    856\u001b[0m         index,  \u001b[38;5;66;03m# type: ignore[arg-type]\u001b[39;00m\n\u001b[0;32m    857\u001b[0m         dtype,\n\u001b[0;32m    858\u001b[0m     )\n\u001b[0;32m    859\u001b[0m     mgr \u001b[38;5;241m=\u001b[39m arrays_to_mgr(\n\u001b[0;32m    860\u001b[0m         arrays,\n\u001b[0;32m    861\u001b[0m         columns,\n\u001b[1;32m   (...)\u001b[0m\n\u001b[0;32m    864\u001b[0m         typ\u001b[38;5;241m=\u001b[39mmanager,\n\u001b[0;32m    865\u001b[0m     )\n\u001b[0;32m    866\u001b[0m \u001b[38;5;28;01melse\u001b[39;00m:\n",
      "File \u001b[1;32mc:\\Users\\MMM\\anaconda3\\Lib\\site-packages\\pandas\\core\\internals\\construction.py:520\u001b[0m, in \u001b[0;36mnested_data_to_arrays\u001b[1;34m(data, columns, index, dtype)\u001b[0m\n\u001b[0;32m    517\u001b[0m \u001b[38;5;28;01mif\u001b[39;00m is_named_tuple(data[\u001b[38;5;241m0\u001b[39m]) \u001b[38;5;129;01mand\u001b[39;00m columns \u001b[38;5;129;01mis\u001b[39;00m \u001b[38;5;28;01mNone\u001b[39;00m:\n\u001b[0;32m    518\u001b[0m     columns \u001b[38;5;241m=\u001b[39m ensure_index(data[\u001b[38;5;241m0\u001b[39m]\u001b[38;5;241m.\u001b[39m_fields)\n\u001b[1;32m--> 520\u001b[0m arrays, columns \u001b[38;5;241m=\u001b[39m to_arrays(data, columns, dtype\u001b[38;5;241m=\u001b[39mdtype)\n\u001b[0;32m    521\u001b[0m columns \u001b[38;5;241m=\u001b[39m ensure_index(columns)\n\u001b[0;32m    523\u001b[0m \u001b[38;5;28;01mif\u001b[39;00m index \u001b[38;5;129;01mis\u001b[39;00m \u001b[38;5;28;01mNone\u001b[39;00m:\n",
      "File \u001b[1;32mc:\\Users\\MMM\\anaconda3\\Lib\\site-packages\\pandas\\core\\internals\\construction.py:845\u001b[0m, in \u001b[0;36mto_arrays\u001b[1;34m(data, columns, dtype)\u001b[0m\n\u001b[0;32m    842\u001b[0m     data \u001b[38;5;241m=\u001b[39m [\u001b[38;5;28mtuple\u001b[39m(x) \u001b[38;5;28;01mfor\u001b[39;00m x \u001b[38;5;129;01min\u001b[39;00m data]\n\u001b[0;32m    843\u001b[0m     arr \u001b[38;5;241m=\u001b[39m _list_to_arrays(data)\n\u001b[1;32m--> 845\u001b[0m content, columns \u001b[38;5;241m=\u001b[39m _finalize_columns_and_data(arr, columns, dtype)\n\u001b[0;32m    846\u001b[0m \u001b[38;5;28;01mreturn\u001b[39;00m content, columns\n",
      "File \u001b[1;32mc:\\Users\\MMM\\anaconda3\\Lib\\site-packages\\pandas\\core\\internals\\construction.py:942\u001b[0m, in \u001b[0;36m_finalize_columns_and_data\u001b[1;34m(content, columns, dtype)\u001b[0m\n\u001b[0;32m    939\u001b[0m     columns \u001b[38;5;241m=\u001b[39m _validate_or_indexify_columns(contents, columns)\n\u001b[0;32m    940\u001b[0m \u001b[38;5;28;01mexcept\u001b[39;00m \u001b[38;5;167;01mAssertionError\u001b[39;00m \u001b[38;5;28;01mas\u001b[39;00m err:\n\u001b[0;32m    941\u001b[0m     \u001b[38;5;66;03m# GH#26429 do not raise user-facing AssertionError\u001b[39;00m\n\u001b[1;32m--> 942\u001b[0m     \u001b[38;5;28;01mraise\u001b[39;00m \u001b[38;5;167;01mValueError\u001b[39;00m(err) \u001b[38;5;28;01mfrom\u001b[39;00m \u001b[38;5;21;01merr\u001b[39;00m\n\u001b[0;32m    944\u001b[0m \u001b[38;5;28;01mif\u001b[39;00m \u001b[38;5;28mlen\u001b[39m(contents) \u001b[38;5;129;01mand\u001b[39;00m contents[\u001b[38;5;241m0\u001b[39m]\u001b[38;5;241m.\u001b[39mdtype \u001b[38;5;241m==\u001b[39m np\u001b[38;5;241m.\u001b[39mobject_:\n\u001b[0;32m    945\u001b[0m     contents \u001b[38;5;241m=\u001b[39m convert_object_array(contents, dtype\u001b[38;5;241m=\u001b[39mdtype)\n",
      "\u001b[1;31mValueError\u001b[0m: 2 columns passed, passed data had 10 columns"
     ]
    }
   ],
   "source": [
    "pd.DataFrame([list(task_time.keys()),list(task.values())],index=task_time.values(), columns = [\"tasks\",\"parts\"] )\n",
    "# pd.DataFrame(columns= times) "
   ]
  },
  {
   "cell_type": "code",
   "execution_count": 56,
   "metadata": {},
   "outputs": [
    {
     "name": "stdout",
     "output_type": "stream",
     "text": [
      "Part 1: 14:38:52 - 16:59:08\n",
      "Part 2: 16:59:08 - 19:19:25\n",
      "Part 3: 19:19:25 - 21:39:42\n",
      "Part 4: 21:39:42 - 23:59:59\n"
     ]
    }
   ],
   "source": [
    "import datetime\n",
    "\n",
    "now = datetime.datetime.now()\n",
    "remaining_time = datetime.datetime.combine(now.date(), datetime.time(23, 59, 59)) - now\n",
    "\n",
    "n = 4  # Number of parts to split the remaining time into\n",
    "\n",
    "# Calculate the duration of each part in seconds\n",
    "part_duration_seconds = remaining_time.total_seconds() / n\n",
    "\n",
    "# Calculate the start and end times for each part\n",
    "start_times = [now + datetime.timedelta(seconds=part_duration_seconds * i) for i in range(n)]\n",
    "end_times = [start_times[i] + datetime.timedelta(seconds=part_duration_seconds) for i in range(n)]\n",
    "\n",
    "# Print the start and end times for each part in hours, minutes, and seconds\n",
    "for i in range(n):\n",
    "    start_time_str = start_times[i].strftime(\"%H:%M:%S\")\n",
    "    end_time_str = end_times[i].strftime(\"%H:%M:%S\")\n",
    "    print(f\"Part {i+1}: {start_time_str} - {end_time_str}\")"
   ]
  }
 ],
 "metadata": {
  "kernelspec": {
   "display_name": "base",
   "language": "python",
   "name": "python3"
  },
  "language_info": {
   "codemirror_mode": {
    "name": "ipython",
    "version": 3
   },
   "file_extension": ".py",
   "mimetype": "text/x-python",
   "name": "python",
   "nbconvert_exporter": "python",
   "pygments_lexer": "ipython3",
   "version": "3.12.4"
  }
 },
 "nbformat": 4,
 "nbformat_minor": 2
}
