{
 "cells": [
  {
   "cell_type": "markdown",
   "metadata": {},
   "source": [
    "# Planner\n",
    "This code manages your remaining time.\n",
    "\n",
    "it will give you a recommendation base on task importance"
   ]
  },
  {
   "cell_type": "markdown",
   "metadata": {},
   "source": [
    "importing libraries"
   ]
  },
  {
   "cell_type": "code",
   "execution_count": 1,
   "metadata": {},
   "outputs": [],
   "source": [
    "import pandas as pd\n",
    "import datetime\n",
    "import numpy as np"
   ]
  },
  {
   "cell_type": "markdown",
   "metadata": {},
   "source": [
    "getting current time and calculating remaining time"
   ]
  },
  {
   "cell_type": "code",
   "execution_count": 2,
   "metadata": {},
   "outputs": [
    {
     "name": "stdout",
     "output_type": "stream",
     "text": [
      "2024-10-06 16:20:55.744363\n",
      "Remaining time today: 7:39:03.255637\n"
     ]
    }
   ],
   "source": [
    "now = datetime.datetime.now()\n",
    "remaining_time = datetime.datetime.combine(now.date(), datetime.time(23, 59, 59)) - now\n",
    "print(now)\n",
    "print(f\"Remaining time today: {remaining_time}\")"
   ]
  },
  {
   "cell_type": "markdown",
   "metadata": {},
   "source": [
    "Define youre task and their importance"
   ]
  },
  {
   "cell_type": "code",
   "execution_count": 3,
   "metadata": {},
   "outputs": [],
   "source": [
    "task = {\"AI\" : 3,\n",
    "        \"german_language\":3,\n",
    "        \"university\":3,\n",
    "        \"university_project\":3,\n",
    "        \"exam\":3,\n",
    "        \"reinforcment_learning\":2,\n",
    "        \"exersize\":2,\n",
    "        \"github_project\":1,\n",
    "        \"start_up\":1}\n",
    "\n",
    "# df=pd.DataFrame(task)\n",
    "\n"
   ]
  },
  {
   "cell_type": "code",
   "execution_count": 4,
   "metadata": {},
   "outputs": [],
   "source": [
    "def seconds_to_hms(seconds):\n",
    "  \"\"\"Converts seconds to hours, minutes, and seconds format.\n",
    "\n",
    "  Args:\n",
    "    seconds: The number of seconds to convert.\n",
    "\n",
    "  Returns:\n",
    "    A tuple of (hours, minutes, seconds).\n",
    "  \"\"\"\n",
    "  seconds=int(seconds)\n",
    "  hours = seconds // 3600\n",
    "  minutes = (seconds % 3600) // 60\n",
    "  seconds = seconds % 60\n",
    "\n",
    "  return f\"{hours}:{minutes}:{seconds}\"\n"
   ]
  },
  {
   "cell_type": "markdown",
   "metadata": {},
   "source": [
    "# calculating the minimuem importance task time named part_duration_seconds\n",
    "\n",
    "each task will be given (part_duration_seconds * importance) time "
   ]
  },
  {
   "cell_type": "code",
   "execution_count": 5,
   "metadata": {},
   "outputs": [
    {
     "name": "stdout",
     "output_type": "stream",
     "text": [
      "0:16:8\n"
     ]
    }
   ],
   "source": [
    "now = datetime.datetime.now()\n",
    "remaining_time = datetime.datetime.combine(now.date(), datetime.time(21, 59, 59)) - now\n",
    "\n",
    "n = sum(list(task.values()))  # Number of parts to split the remaining time into\n",
    "# Calculate the duration of each part in seconds\n",
    "part_duration_seconds = remaining_time.total_seconds() / n\n",
    "\n",
    "# Calculate the start and end times for each part\n",
    "start_times = [now + datetime.timedelta(seconds=part_duration_seconds * i) for i in range(n)]\n",
    "end_times = [start_times[i] + datetime.timedelta(seconds=part_duration_seconds) for i in range(n)]\n",
    "\n",
    "print(seconds_to_hms(int(part_duration_seconds)))"
   ]
  },
  {
   "cell_type": "markdown",
   "metadata": {},
   "source": [
    "# calculating the start and end times for each task in hours, minutes, and seconds\n"
   ]
  },
  {
   "cell_type": "code",
   "execution_count": 9,
   "metadata": {},
   "outputs": [
    {
     "name": "stdout",
     "output_type": "stream",
     "text": [
      "AI: 16:20:55 - 17:09:21\n",
      "german_language: 17:09:21 - 17:57:48\n",
      "university: 17:57:48 - 18:46:14\n",
      "university_project: 18:46:14 - 19:34:40\n",
      "exam: 19:34:40 - 20:23:06\n",
      "reinforcment_learning: 20:23:06 - 20:55:24\n",
      "exersize: 20:55:24 - 21:27:41\n",
      "github_project: 21:27:41 - 21:43:50\n",
      "start_up: 21:43:50 - 21:59:58\n",
      "{'AI': '16:20:55 - 17:09:21', 'german_language': '17:09:21 - 17:57:48', 'university': '17:57:48 - 18:46:14', 'university_project': '18:46:14 - 19:34:40', 'exam': '19:34:40 - 20:23:06', 'reinforcment_learning': '20:23:06 - 20:55:24', 'exersize': '20:55:24 - 21:27:41', 'github_project': '21:27:41 - 21:43:50', 'start_up': '21:43:50 - 21:59:58'}\n"
     ]
    }
   ],
   "source": [
    "task_time={}\n",
    "end_time = now\n",
    "for key,value in task.items():\n",
    "    start_time_str = end_time.strftime(\"%H:%M:%S\")\n",
    "    end_time = (end_time + datetime.timedelta(seconds=part_duration_seconds * value))\n",
    "    end_time_str = end_time.strftime(\"%H:%M:%S\")\n",
    "    print(f\"{key}: {start_time_str} - {end_time_str}\")\n",
    "    task_time[key] = f\"{start_time_str} - {end_time_str}\"\n",
    "\n",
    "print(task_time)"
   ]
  },
  {
   "cell_type": "code",
   "execution_count": 9,
   "metadata": {},
   "outputs": [
    {
     "data": {
      "text/plain": [
       "'0:16:20'"
      ]
     },
     "execution_count": 9,
     "metadata": {},
     "output_type": "execute_result"
    }
   ],
   "source": [
    "part_duration_seconds\n",
    "seconds_to_hms(part_duration_seconds)"
   ]
  },
  {
   "cell_type": "code",
   "execution_count": 10,
   "metadata": {},
   "outputs": [
    {
     "data": {
      "text/html": [
       "<div>\n",
       "<style scoped>\n",
       "    .dataframe tbody tr th:only-of-type {\n",
       "        vertical-align: middle;\n",
       "    }\n",
       "\n",
       "    .dataframe tbody tr th {\n",
       "        vertical-align: top;\n",
       "    }\n",
       "\n",
       "    .dataframe thead th {\n",
       "        text-align: right;\n",
       "    }\n",
       "</style>\n",
       "<table border=\"1\" class=\"dataframe\">\n",
       "  <thead>\n",
       "    <tr style=\"text-align: right;\">\n",
       "      <th></th>\n",
       "      <th>tasks</th>\n",
       "      <th>importance</th>\n",
       "      <th>time</th>\n",
       "    </tr>\n",
       "  </thead>\n",
       "  <tbody>\n",
       "    <tr>\n",
       "      <th>16:20:55 - 17:09:21</th>\n",
       "      <td>AI</td>\n",
       "      <td>3</td>\n",
       "      <td>0:48:26</td>\n",
       "    </tr>\n",
       "    <tr>\n",
       "      <th>17:09:21 - 17:57:48</th>\n",
       "      <td>german_language</td>\n",
       "      <td>3</td>\n",
       "      <td>0:48:26</td>\n",
       "    </tr>\n",
       "    <tr>\n",
       "      <th>17:57:48 - 18:46:14</th>\n",
       "      <td>university</td>\n",
       "      <td>3</td>\n",
       "      <td>0:48:26</td>\n",
       "    </tr>\n",
       "    <tr>\n",
       "      <th>18:46:14 - 19:34:40</th>\n",
       "      <td>university_project</td>\n",
       "      <td>3</td>\n",
       "      <td>0:48:26</td>\n",
       "    </tr>\n",
       "    <tr>\n",
       "      <th>19:34:40 - 20:23:06</th>\n",
       "      <td>exam</td>\n",
       "      <td>3</td>\n",
       "      <td>0:48:26</td>\n",
       "    </tr>\n",
       "    <tr>\n",
       "      <th>20:23:06 - 20:55:24</th>\n",
       "      <td>reinforcment_learning</td>\n",
       "      <td>2</td>\n",
       "      <td>0:32:17</td>\n",
       "    </tr>\n",
       "    <tr>\n",
       "      <th>20:55:24 - 21:27:41</th>\n",
       "      <td>exersize</td>\n",
       "      <td>2</td>\n",
       "      <td>0:32:17</td>\n",
       "    </tr>\n",
       "    <tr>\n",
       "      <th>21:27:41 - 21:43:50</th>\n",
       "      <td>github_project</td>\n",
       "      <td>1</td>\n",
       "      <td>0:16:8</td>\n",
       "    </tr>\n",
       "    <tr>\n",
       "      <th>21:43:50 - 21:59:58</th>\n",
       "      <td>start_up</td>\n",
       "      <td>1</td>\n",
       "      <td>0:16:8</td>\n",
       "    </tr>\n",
       "  </tbody>\n",
       "</table>\n",
       "</div>"
      ],
      "text/plain": [
       "                                     tasks  importance     time\n",
       "16:20:55 - 17:09:21                     AI           3  0:48:26\n",
       "17:09:21 - 17:57:48        german_language           3  0:48:26\n",
       "17:57:48 - 18:46:14             university           3  0:48:26\n",
       "18:46:14 - 19:34:40     university_project           3  0:48:26\n",
       "19:34:40 - 20:23:06                   exam           3  0:48:26\n",
       "20:23:06 - 20:55:24  reinforcment_learning           2  0:32:17\n",
       "20:55:24 - 21:27:41               exersize           2  0:32:17\n",
       "21:27:41 - 21:43:50         github_project           1   0:16:8\n",
       "21:43:50 - 21:59:58               start_up           1   0:16:8"
      ]
     },
     "execution_count": 10,
     "metadata": {},
     "output_type": "execute_result"
    }
   ],
   "source": [
    "df = {}\n",
    "df[\"tasks\"] = list(task_time.keys())\n",
    "df[\"importance\"] = list(task.values())\n",
    "df[\"time\"] = np.array(df[\"importance\"]) * part_duration_seconds\n",
    "df = pd.DataFrame(df)\n",
    "df[\"time\"] = df[\"time\"].apply(seconds_to_hms)\n",
    "df.index = task_time.values()\n",
    "df"
   ]
  },
  {
   "cell_type": "code",
   "execution_count": null,
   "metadata": {},
   "outputs": [],
   "source": []
  },
  {
   "cell_type": "code",
   "execution_count": null,
   "metadata": {},
   "outputs": [],
   "source": []
  }
 ],
 "metadata": {
  "kernelspec": {
   "display_name": "base",
   "language": "python",
   "name": "python3"
  },
  "language_info": {
   "codemirror_mode": {
    "name": "ipython",
    "version": 3
   },
   "file_extension": ".py",
   "mimetype": "text/x-python",
   "name": "python",
   "nbconvert_exporter": "python",
   "pygments_lexer": "ipython3",
   "version": "3.12.4"
  }
 },
 "nbformat": 4,
 "nbformat_minor": 2
}
